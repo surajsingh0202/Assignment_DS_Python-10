{
 "cells": [
  {
   "cell_type": "code",
   "execution_count": 13,
   "id": "575c6394-75bd-4f61-a2b9-5eba67506bfe",
   "metadata": {},
   "outputs": [
    {
     "data": {
      "text/plain": [
       "\"\\nMultithreading is defined as the ability of a processor to execute multiple threads concurrently.\\n In a simple, single-core CPU, it is achieved using frequent switching between threads\\n\\nHere are a few benefits of multithreading Python projects: Improved Performance: Multithreading improves the performance of applications by running the task simultaneously. \\nBetter Responsiveness: Multithreading improves the responsiveness of your backend applications by running threads after a task is blocked\\n\\nThe os module is used to access the process ID, and the ' threading' module is used to manage threads and their execution.\\n\\n\""
      ]
     },
     "execution_count": 13,
     "metadata": {},
     "output_type": "execute_result"
    }
   ],
   "source": [
    "##Q1. What is multithreading in python? Why is it used? Name the module used to handle threads in python.\n",
    "\n",
    "'''\n",
    "Multithreading is defined as the ability of a processor to execute multiple threads concurrently.\n",
    " In a simple, single-core CPU, it is achieved using frequent switching between threads\n",
    "\n",
    "Here are a few benefits of multithreading Python projects: Improved Performance: Multithreading improves the performance of applications by running the task simultaneously. \n",
    "Better Responsiveness: Multithreading improves the responsiveness of your backend applications by running threads after a task is blocked\n",
    "\n",
    "The os module is used to access the process ID, and the ' threading' module is used to manage threads and their execution.\n",
    "\n",
    "'''"
   ]
  },
  {
   "cell_type": "code",
   "execution_count": 15,
   "id": "c24eec96-bac5-4e3d-b082-ae627e904e28",
   "metadata": {},
   "outputs": [
    {
     "data": {
      "text/plain": [
       "\"\\nThe threading module allows multiple threads of execution to take place in a Python program. \\nWhile threads may appear to run simultaneously, only one thread can be executed at a time.\\n This is enforced by Python's global interpreter lock. Threading is helpful when working with tasks that are I/O bound.\\n\\n(a.)activeCount() − Returns the number of thread objects that are active. threading. \\ncurrentThread() − Returns the number of thread objects in the caller's thread control\\n(b.)The currentThread() method, used to obtain a reference to the current thread,\\n will always return the Thread object for the virtual thread\\n(c.)What Does Enumerate Do in Python? Enumerate is a built-in function in python that allows \\nyou to keep track of the number of iterations (loops) in a loop. This enumerate \\nobject contains a count (from the start, which always defaults to 0) and a value obtained from iterating over the iterable object\\n\\n\""
      ]
     },
     "execution_count": 15,
     "metadata": {},
     "output_type": "execute_result"
    }
   ],
   "source": [
    "##Q2. Why threading module used? Write the use of the following functions\n",
    "\n",
    "'''\n",
    "The threading module allows multiple threads of execution to take place in a Python program. \n",
    "While threads may appear to run simultaneously, only one thread can be executed at a time.\n",
    " This is enforced by Python's global interpreter lock. Threading is helpful when working with tasks that are I/O bound.\n",
    "\n",
    "(a.)activeCount() − Returns the number of thread objects that are active. threading. \n",
    "currentThread() − Returns the number of thread objects in the caller's thread control\n",
    "(b.)The currentThread() method, used to obtain a reference to the current thread,\n",
    " will always return the Thread object for the virtual thread\n",
    "(c.)What Does Enumerate Do in Python? Enumerate is a built-in function in python that allows \n",
    "you to keep track of the number of iterations (loops) in a loop. This enumerate \n",
    "object contains a count (from the start, which always defaults to 0) and a value obtained from iterating over the iterable object\n",
    "\n",
    "'''"
   ]
  },
  {
   "cell_type": "code",
   "execution_count": 17,
   "id": "4701eff3-b83f-4589-8d8a-9f0c67d60237",
   "metadata": {},
   "outputs": [
    {
     "data": {
      "text/plain": [
       "\"\\n(a.)The standard run() method invokes the callable object passed to the object's constructor as the target argument, if any,\\n with positional and keyword arguments taken from the args and kwargs arguments, respectively. \\nUsing list or tuple as the args argument which passed to the Thread could achieve the same effect.\\n\\n(b.)once a thread object is created, its activity must be started by calling the thread's start() method. \\nThis invokes the run() method in a separate thread of control. \\nOnce the thread's activity is started, the thread is considered 'alive\\n\\n(c.)Join in Python is an in-built method used to join an iterable's elements, \\nseparated by a string separator, which is specified by you. Thus, whenever you want to join \\nthe elements of an iterable and make it a string, you can use the string join in Python.\\n\\n(d.)is_alive() method returns True if the thread is still running and False , otherwise\\n\\n\""
      ]
     },
     "execution_count": 17,
     "metadata": {},
     "output_type": "execute_result"
    }
   ],
   "source": [
    "'''\n",
    "Q3. Explain the following functions\n",
    " 1.run()\n",
    " 2.start()\n",
    " 3.join()\n",
    " 4.isAlive()\n",
    "'''\n",
    "\n",
    "'''\n",
    "(a.)The standard run() method invokes the callable object passed to the object's constructor as the target argument, if any,\n",
    " with positional and keyword arguments taken from the args and kwargs arguments, respectively. \n",
    "Using list or tuple as the args argument which passed to the Thread could achieve the same effect.\n",
    "\n",
    "(b.)once a thread object is created, its activity must be started by calling the thread's start() method. \n",
    "This invokes the run() method in a separate thread of control. \n",
    "Once the thread's activity is started, the thread is considered 'alive\n",
    "\n",
    "(c.)Join in Python is an in-built method used to join an iterable's elements, \n",
    "separated by a string separator, which is specified by you. Thus, whenever you want to join \n",
    "the elements of an iterable and make it a string, you can use the string join in Python.\n",
    "\n",
    "(d.)is_alive() method returns True if the thread is still running and False , otherwise\n",
    "\n",
    "'''"
   ]
  },
  {
   "cell_type": "code",
   "execution_count": 19,
   "id": "f7d0bf38-6674-4e38-9726-5b71eed13876",
   "metadata": {},
   "outputs": [
    {
     "data": {
      "text/plain": [
       "'\\nimport threading\\n\\n\\ndef print_cube(num):\\n    print(\"Cube: {}\" .format(num * num * num))\\n\\n\\ndef print_square(num):\\n    print(\"Square: {}\" .format(num * num))\\n\\n\\nif __name__ ==\"__main__\":\\n    t1 = threading.Thread(target=print_square, args=(10,))\\n    t2 = threading.Thread(target=print_cube, args=(10,))\\n\\n    t1.start()\\n    t2.start()\\n\\n    t1.join()\\n    t2.join()\\n\\n    print(\"Done!\")\\n'"
      ]
     },
     "execution_count": 19,
     "metadata": {},
     "output_type": "execute_result"
    }
   ],
   "source": [
    "'''\n",
    "Q4. Write a python program to create two threads. Thread one must print the list of squares and thread\n",
    "two must print the list of cubes.\n",
    "'''\n",
    "\n",
    "\n",
    "'''\n",
    "import threading\n",
    "\n",
    "\n",
    "def print_cube(num):\n",
    "    print(\"Cube: {}\" .format(num * num * num))\n",
    "\n",
    "\n",
    "def print_square(num):\n",
    "    print(\"Square: {}\" .format(num * num))\n",
    "\n",
    "\n",
    "if __name__ ==\"__main__\":\n",
    "    t1 = threading.Thread(target=print_square, args=(10,))\n",
    "    t2 = threading.Thread(target=print_cube, args=(10,))\n",
    "\n",
    "    t1.start()\n",
    "    t2.start()\n",
    "\n",
    "    t1.join()\n",
    "    t2.join()\n",
    "\n",
    "    print(\"Done!\")\n",
    "'''"
   ]
  },
  {
   "cell_type": "code",
   "execution_count": 21,
   "id": "964bb342-b77f-483e-839e-4e04854f046a",
   "metadata": {},
   "outputs": [
    {
     "data": {
      "text/plain": [
       "\"\\nAdvantages of Python multithreading\\n\\nHere are the two main advantages: Multithreading in Python streamlines the efficient utilization of resources as the threads share\\n the same memory and data space. \\nIt also allows the concurrent appearance of multiple tasks and reduces the response time. This improves the performance.\\n\\n\\nThere are a few disadvantages to threading in Python. First, it can be difficult to debug because threads can share data and resources.\\n Second, Python's threading mode\\nl is not very robust. Finally, threading can introduce race conditions and other subtle bugs.\\n\\n\""
      ]
     },
     "execution_count": 21,
     "metadata": {},
     "output_type": "execute_result"
    }
   ],
   "source": [
    "##Q5. State advantages and disadvantages of multithreading.\n",
    "\n",
    "\n",
    "'''\n",
    "Advantages of Python multithreading\n",
    "\n",
    "Here are the two main advantages: Multithreading in Python streamlines the efficient utilization of resources as the threads share\n",
    " the same memory and data space. \n",
    "It also allows the concurrent appearance of multiple tasks and reduces the response time. This improves the performance.\n",
    "\n",
    "\n",
    "There are a few disadvantages to threading in Python. First, it can be difficult to debug because threads can share data and resources.\n",
    " Second, Python's threading mode\n",
    "l is not very robust. Finally, threading can introduce race conditions and other subtle bugs.\n",
    "\n",
    "'''"
   ]
  },
  {
   "cell_type": "code",
   "execution_count": 23,
   "id": "2ab0f071-e896-48ff-9e3c-8fd669a9ba73",
   "metadata": {},
   "outputs": [
    {
     "data": {
      "text/plain": [
       "'\\nRace Condition And Deadlock\\nA race condition occurs when two threads use the same variable at a given time.\\n Deadlock exists when two threads seek one lock simultaneously.\\n This situation will stop both threads from processing or executing the functions.\\n'"
      ]
     },
     "execution_count": 23,
     "metadata": {},
     "output_type": "execute_result"
    }
   ],
   "source": [
    "##Q6. Explain deadlocks and race conditions.\n",
    "\n",
    "'''\n",
    "Race Condition And Deadlock\n",
    "A race condition occurs when two threads use the same variable at a given time.\n",
    " Deadlock exists when two threads seek one lock simultaneously.\n",
    " This situation will stop both threads from processing or executing the functions.\n",
    "'''"
   ]
  },
  {
   "cell_type": "code",
   "execution_count": null,
   "id": "1ed7c958-1943-4373-b491-ccaa50df7e1a",
   "metadata": {},
   "outputs": [],
   "source": []
  }
 ],
 "metadata": {
  "kernelspec": {
   "display_name": "Python 3 (ipykernel)",
   "language": "python",
   "name": "python3"
  },
  "language_info": {
   "codemirror_mode": {
    "name": "ipython",
    "version": 3
   },
   "file_extension": ".py",
   "mimetype": "text/x-python",
   "name": "python",
   "nbconvert_exporter": "python",
   "pygments_lexer": "ipython3",
   "version": "3.12.4"
  }
 },
 "nbformat": 4,
 "nbformat_minor": 5
}
